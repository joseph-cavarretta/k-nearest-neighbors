{
 "cells": [
  {
   "cell_type": "code",
   "execution_count": 1,
   "id": "402af63c",
   "metadata": {},
   "outputs": [],
   "source": [
    "import pandas as pd\n",
    "import numpy as np\n",
    "from sklearn.neighbors import BallTree\n",
    "from sklearn.metrics import DistanceMetric\n",
    "\n",
    "# Other methods that were considered, but none of them offer a Haversine metric option\n",
    "# from sklearn.neighbors import KDTree\n",
    "# from scipy.spatial import KDTree\n",
    "# import pykdtree\n",
    "\n",
    "STARBUCKS_LOCATIONS = 'data/starbucks_us.csv'\n",
    "STARBUCKS_COLS = ['starbucksid', 'lat', 'lon']\n",
    "STARBUCKS_LATLONG_COLS = ['store_lat', 'store_long']\n",
    "STARBUCKS_RADIANS_COLS = ['sb_lat_radians', 'sb_long_radians']\n",
    "STARBUCKS_INDEX = 'starbucks_id'\n",
    "STARBUCKS_MAP = {\n",
    "    'starbucksid': 'starbucks_id', \n",
    "    'lat': 'store_lat', \n",
    "    'lon': 'store_long'\n",
    "}\n",
    "\n",
    "HOUSING_LOCATIONS = 'data/multifamily_physical_inspection_scores_0321.csv'\n",
    "HOUSING_COLS = ['PROPERTY_ID', 'LATITUDE', 'LONGITUDE']\n",
    "HOUSING_LATLONG_COLS = ['latitude', 'longitude']\n",
    "HOUSING_RADIANS_COLS = ['lat_radians', 'long_radians']\n",
    "HOUSING_INDEX = 'property_id'\n",
    "# 3959 is the radius of the earth in miles, multiply to convert radians to miles\n",
    "RADIANS_TO_MILES = 3959\n"
   ]
  },
  {
   "cell_type": "code",
   "execution_count": 2,
   "id": "ef7b0b44",
   "metadata": {},
   "outputs": [],
   "source": [
    "def load_data(path: str, columns: list) -> pd.DataFrame:\n",
    "    df = pd.read_csv(path, usecols=columns)\n",
    "    return df\n",
    "\n",
    "\n",
    "def latlong_to_radians(df: pd.DataFrame, new_cols: list, old_cols: list):\n",
    "    df[new_cols] = (np.radians(df.loc[:, old_cols]))\n",
    "    df.drop(columns=old_cols, inplace=True)\n",
    "    return df\n",
    "\n",
    "\n",
    "def downcast_fields(df: pd.DataFrame):\n",
    "    # convert float64's to float32's to save space\n",
    "    for col in df.columns:\n",
    "        if df[col].dtype == 'float64':\n",
    "            df[col]=pd.to_numeric(df[col], downcast='float')\n",
    "    return df"
   ]
  },
  {
   "cell_type": "code",
   "execution_count": 3,
   "id": "381e5533",
   "metadata": {},
   "outputs": [],
   "source": [
    "sb_df = load_data(STARBUCKS_LOCATIONS, STARBUCKS_COLS)\n",
    "h_df = load_data(HOUSING_LOCATIONS, HOUSING_COLS)"
   ]
  },
  {
   "cell_type": "code",
   "execution_count": 4,
   "id": "cca81c59",
   "metadata": {},
   "outputs": [],
   "source": [
    "# format columns\n",
    "sb_df.rename(columns=STARBUCKS_MAP, inplace=True)\n",
    "h_df.columns = [col.lower() for col in h_df.columns]\n",
    "\n",
    "# drop columns with no lat / long info\n",
    "h_df.dropna(axis=0, how=\"any\", subset=HOUSING_LATLONG_COLS, inplace=True)\n",
    "sb_df.dropna(axis=0, how=\"any\", subset=STARBUCKS_LATLONG_COLS, inplace=True)"
   ]
  },
  {
   "cell_type": "code",
   "execution_count": 5,
   "id": "53c12ec2",
   "metadata": {},
   "outputs": [],
   "source": [
    "h_df = latlong_to_radians(\n",
    "    h_df, \n",
    "    HOUSING_RADIANS_COLS, \n",
    "    HOUSING_LATLONG_COLS\n",
    ")\n",
    "\n",
    "sb_df = latlong_to_radians(\n",
    "    sb_df,\n",
    "    STARBUCKS_RADIANS_COLS,\n",
    "    STARBUCKS_LATLONG_COLS\n",
    ")\n",
    "\n",
    "h_df = downcast_fields(h_df)\n",
    "sb_df = downcast_fields(sb_df)"
   ]
  },
  {
   "cell_type": "code",
   "execution_count": 6,
   "id": "2b3a3ee3",
   "metadata": {},
   "outputs": [
    {
     "name": "stdout",
     "output_type": "stream",
     "text": [
      "Total Starbucks Locations: 13620\n"
     ]
    },
    {
     "data": {
      "text/html": [
       "<div>\n",
       "<style scoped>\n",
       "    .dataframe tbody tr th:only-of-type {\n",
       "        vertical-align: middle;\n",
       "    }\n",
       "\n",
       "    .dataframe tbody tr th {\n",
       "        vertical-align: top;\n",
       "    }\n",
       "\n",
       "    .dataframe thead th {\n",
       "        text-align: right;\n",
       "    }\n",
       "</style>\n",
       "<table border=\"1\" class=\"dataframe\">\n",
       "  <thead>\n",
       "    <tr style=\"text-align: right;\">\n",
       "      <th></th>\n",
       "      <th>starbucks_id</th>\n",
       "      <th>sb_lat_radians</th>\n",
       "      <th>sb_long_radians</th>\n",
       "    </tr>\n",
       "  </thead>\n",
       "  <tbody>\n",
       "    <tr>\n",
       "      <th>0</th>\n",
       "      <td>10357</td>\n",
       "      <td>0.829225</td>\n",
       "      <td>-1.615289</td>\n",
       "    </tr>\n",
       "    <tr>\n",
       "      <th>1</th>\n",
       "      <td>1006159</td>\n",
       "      <td>0.786278</td>\n",
       "      <td>-1.624230</td>\n",
       "    </tr>\n",
       "    <tr>\n",
       "      <th>2</th>\n",
       "      <td>1008940</td>\n",
       "      <td>0.790982</td>\n",
       "      <td>-1.633004</td>\n",
       "    </tr>\n",
       "    <tr>\n",
       "      <th>3</th>\n",
       "      <td>14598</td>\n",
       "      <td>0.784349</td>\n",
       "      <td>-1.625686</td>\n",
       "    </tr>\n",
       "    <tr>\n",
       "      <th>4</th>\n",
       "      <td>12449</td>\n",
       "      <td>0.784884</td>\n",
       "      <td>-1.628003</td>\n",
       "    </tr>\n",
       "  </tbody>\n",
       "</table>\n",
       "</div>"
      ],
      "text/plain": [
       "   starbucks_id  sb_lat_radians  sb_long_radians\n",
       "0         10357        0.829225        -1.615289\n",
       "1       1006159        0.786278        -1.624230\n",
       "2       1008940        0.790982        -1.633004\n",
       "3         14598        0.784349        -1.625686\n",
       "4         12449        0.784884        -1.628003"
      ]
     },
     "execution_count": 6,
     "metadata": {},
     "output_type": "execute_result"
    }
   ],
   "source": [
    "# US starbucks locations\n",
    "print(f'Total Starbucks Locations: {len(sb_df)}')\n",
    "sb_df.head()"
   ]
  },
  {
   "cell_type": "code",
   "execution_count": 7,
   "id": "4fb0b16c",
   "metadata": {},
   "outputs": [
    {
     "name": "stdout",
     "output_type": "stream",
     "text": [
      "Total Housing Locations: 27415\n"
     ]
    },
    {
     "data": {
      "text/html": [
       "<div>\n",
       "<style scoped>\n",
       "    .dataframe tbody tr th:only-of-type {\n",
       "        vertical-align: middle;\n",
       "    }\n",
       "\n",
       "    .dataframe tbody tr th {\n",
       "        vertical-align: top;\n",
       "    }\n",
       "\n",
       "    .dataframe thead th {\n",
       "        text-align: right;\n",
       "    }\n",
       "</style>\n",
       "<table border=\"1\" class=\"dataframe\">\n",
       "  <thead>\n",
       "    <tr style=\"text-align: right;\">\n",
       "      <th></th>\n",
       "      <th>property_id</th>\n",
       "      <th>lat_radians</th>\n",
       "      <th>long_radians</th>\n",
       "    </tr>\n",
       "  </thead>\n",
       "  <tbody>\n",
       "    <tr>\n",
       "      <th>0</th>\n",
       "      <td>800006929</td>\n",
       "      <td>0.713483</td>\n",
       "      <td>-1.492496</td>\n",
       "    </tr>\n",
       "    <tr>\n",
       "      <th>1</th>\n",
       "      <td>800005604</td>\n",
       "      <td>0.748410</td>\n",
       "      <td>-1.962701</td>\n",
       "    </tr>\n",
       "    <tr>\n",
       "      <th>2</th>\n",
       "      <td>800001529</td>\n",
       "      <td>0.594720</td>\n",
       "      <td>-2.059074</td>\n",
       "    </tr>\n",
       "    <tr>\n",
       "      <th>3</th>\n",
       "      <td>800027853</td>\n",
       "      <td>0.758258</td>\n",
       "      <td>-1.335069</td>\n",
       "    </tr>\n",
       "    <tr>\n",
       "      <th>4</th>\n",
       "      <td>800225287</td>\n",
       "      <td>0.673112</td>\n",
       "      <td>-1.608806</td>\n",
       "    </tr>\n",
       "  </tbody>\n",
       "</table>\n",
       "</div>"
      ],
      "text/plain": [
       "   property_id  lat_radians  long_radians\n",
       "0    800006929     0.713483     -1.492496\n",
       "1    800005604     0.748410     -1.962701\n",
       "2    800001529     0.594720     -2.059074\n",
       "3    800027853     0.758258     -1.335069\n",
       "4    800225287     0.673112     -1.608806"
      ]
     },
     "execution_count": 7,
     "metadata": {},
     "output_type": "execute_result"
    }
   ],
   "source": [
    "# US housing dataset\n",
    "print(f'Total Housing Locations: {len(h_df)}')\n",
    "h_df.head()"
   ]
  },
  {
   "cell_type": "markdown",
   "id": "ec46adfe",
   "metadata": {},
   "source": [
    "### Brute force method to find nearest starbucks to each house"
   ]
  },
  {
   "cell_type": "code",
   "execution_count": 8,
   "id": "ccfe643d",
   "metadata": {},
   "outputs": [],
   "source": [
    "def nearest_locations_pairwise(df1, df2):\n",
    "    \"\"\"\n",
    "    Brute force method to find the nearest point to each point in two arrays\n",
    "    It runs at On^2...\n",
    "\n",
    "    df1: the dataframe you want to append the nearest starbucks to\n",
    "    df2: the dataframe with all starbucks locations\n",
    "    \"\"\"\n",
    "    # create references for better naming in this example\n",
    "    houses_df = df1\n",
    "    starbucks_df = df2    \n",
    "\n",
    "    # use Haversine distance since earth is sphere\n",
    "    dist = DistanceMetric.get_metric('haversine')\n",
    "\n",
    "    dist_matrix = dist.pairwise(\n",
    "        houses_df[HOUSING_RADIANS_COLS],\n",
    "        starbucks_df[STARBUCKS_RADIANS_COLS]\n",
    "    ) * RADIANS_TO_MILES\n",
    "\n",
    "    # resultant df is a matrix of distances between all houses and starbucks stores\n",
    "    distances_df = pd.DataFrame(\n",
    "        dist_matrix, \n",
    "        index=houses_df[HOUSING_INDEX], \n",
    "        columns=starbucks_df[STARBUCKS_INDEX]\n",
    "    )\n",
    "    \n",
    "    # Unpivot above dataframe from wide format to long format.\n",
    "    distances_df = pd.melt(distances_df.reset_index(), id_vars=HOUSING_INDEX)\n",
    "    \n",
    "    # When you unpivot, the data in the pivot table becomes a column named 'value'. \n",
    "    # Rename this column to 'miles' for clarity.\n",
    "    distances_df.rename(columns={'value':'miles'}, inplace=True)\n",
    "    \n",
    "    # Sort all location pairs by distance, keep the closest distance.\n",
    "    distances_df.sort_values(['property_id', 'miles'], ascending=[False, True], inplace=True)\n",
    "    distances_df.drop_duplicates(subset=[HOUSING_INDEX], keep='first', inplace=True)\n",
    "    distances_df.reset_index(drop=True, inplace=True)\n",
    "    \n",
    "    # Merge df with distance pairs back into original df\n",
    "    merged_df = houses_df.merge(distances_df, on=HOUSING_INDEX)\n",
    "    merged_df.rename(columns={'miles': 'closest_starbucks (mi)'}, inplace=True)\n",
    "    \n",
    "    return merged_df"
   ]
  },
  {
   "cell_type": "code",
   "execution_count": 9,
   "id": "71db435f",
   "metadata": {},
   "outputs": [],
   "source": [
    "%%time \n",
    "# current fastest runtime 20:24\n",
    "pairwise_df = nearest_locations_pairwise(h_df, sb_df)"
   ]
  },
  {
   "cell_type": "code",
   "execution_count": null,
   "id": "98bb9be0",
   "metadata": {},
   "outputs": [],
   "source": [
    "# Avg distance to a starbucks nationwide = 8.15 miles\n",
    "print(f'Avg distance to a starbucks nationwide: {pairwise_df[\"closest_starbucks (mi)\"].mean()}')\n",
    "pairwise_df.head()"
   ]
  },
  {
   "cell_type": "markdown",
   "id": "f4c9909e",
   "metadata": {},
   "source": [
    "### Ball tree method to find nearest starbucks to each house"
   ]
  },
  {
   "cell_type": "code",
   "execution_count": 15,
   "id": "bb1877b4",
   "metadata": {},
   "outputs": [],
   "source": [
    "def nearest_locations_balltree(df1, df2):\n",
    "    # create references for better naming in this example\n",
    "    houses_df = df1\n",
    "    starbucks_df = df2\n",
    "\n",
    "    # Construct ball tree with starbucks coordinates\n",
    "    ball = BallTree(starbucks_df[STARBUCKS_RADIANS_COLS].values, metric='haversine')\n",
    "\n",
    "    # Execute query with the starbucks locations\n",
    "    dist, idx = ball.query(houses_df[HOUSING_RADIANS_COLS].values, k=1)\n",
    "    # convert to miles x 3959\n",
    "    dist = dist * RADIANS_TO_MILES\n",
    "\n",
    "    # get indices of nearest starbucks and merge with housing\n",
    "    starbucks_filtered = starbucks_df[[STARBUCKS_INDEX]]\n",
    "    sb_nearest = starbucks_filtered.iloc[np.squeeze(idx)]\n",
    "    \n",
    "    houses_filtered = houses_df.drop(columns=['lat_radians', 'long_radians'])\n",
    "    final_df = pd.concat([\n",
    "        houses_filtered.reset_index(drop=True), \n",
    "        sb_nearest.reset_index(drop=True), \n",
    "        pd.Series(np.squeeze(dist), name='closest_starbucks (mi)')\n",
    "    ], axis=1)\n",
    "\n",
    "    return final_df"
   ]
  },
  {
   "cell_type": "code",
   "execution_count": 16,
   "id": "4d0478e9",
   "metadata": {},
   "outputs": [
    {
     "name": "stdout",
     "output_type": "stream",
     "text": [
      "CPU times: user 2.07 s, sys: 7.62 ms, total: 2.08 s\n",
      "Wall time: 2.08 s\n"
     ]
    }
   ],
   "source": [
    "%%time\n",
    "# current fastest runtime 00:01.44\n",
    "balltree_df = nearest_locations_balltree(h_df, sb_df)"
   ]
  },
  {
   "cell_type": "code",
   "execution_count": 17,
   "id": "ddfe3b0b",
   "metadata": {},
   "outputs": [
    {
     "name": "stdout",
     "output_type": "stream",
     "text": [
      "Avg distance to a starbucks nationwide: 8.149461896565596\n"
     ]
    },
    {
     "data": {
      "text/html": [
       "<div>\n",
       "<style scoped>\n",
       "    .dataframe tbody tr th:only-of-type {\n",
       "        vertical-align: middle;\n",
       "    }\n",
       "\n",
       "    .dataframe tbody tr th {\n",
       "        vertical-align: top;\n",
       "    }\n",
       "\n",
       "    .dataframe thead th {\n",
       "        text-align: right;\n",
       "    }\n",
       "</style>\n",
       "<table border=\"1\" class=\"dataframe\">\n",
       "  <thead>\n",
       "    <tr style=\"text-align: right;\">\n",
       "      <th></th>\n",
       "      <th>property_id</th>\n",
       "      <th>starbucks_id</th>\n",
       "      <th>closest_starbucks (mi)</th>\n",
       "    </tr>\n",
       "  </thead>\n",
       "  <tbody>\n",
       "    <tr>\n",
       "      <th>0</th>\n",
       "      <td>800006929</td>\n",
       "      <td>1009517</td>\n",
       "      <td>17.003990</td>\n",
       "    </tr>\n",
       "    <tr>\n",
       "      <th>1</th>\n",
       "      <td>800005604</td>\n",
       "      <td>7436</td>\n",
       "      <td>0.636020</td>\n",
       "    </tr>\n",
       "    <tr>\n",
       "      <th>2</th>\n",
       "      <td>800001529</td>\n",
       "      <td>1015032</td>\n",
       "      <td>0.360383</td>\n",
       "    </tr>\n",
       "    <tr>\n",
       "      <th>3</th>\n",
       "      <td>800027853</td>\n",
       "      <td>13542</td>\n",
       "      <td>25.169123</td>\n",
       "    </tr>\n",
       "    <tr>\n",
       "      <th>4</th>\n",
       "      <td>800225287</td>\n",
       "      <td>8388</td>\n",
       "      <td>2.160373</td>\n",
       "    </tr>\n",
       "  </tbody>\n",
       "</table>\n",
       "</div>"
      ],
      "text/plain": [
       "   property_id  starbucks_id  closest_starbucks (mi)\n",
       "0    800006929       1009517               17.003990\n",
       "1    800005604          7436                0.636020\n",
       "2    800001529       1015032                0.360383\n",
       "3    800027853         13542               25.169123\n",
       "4    800225287          8388                2.160373"
      ]
     },
     "execution_count": 17,
     "metadata": {},
     "output_type": "execute_result"
    }
   ],
   "source": [
    "# Avg distance to a starbucks nationwide = 8.15mi\n",
    "print(f'Avg distance to a starbucks nationwide: {balltree_df[\"closest_starbucks (mi)\"].mean()}')\n",
    "balltree_df.head()"
   ]
  },
  {
   "cell_type": "code",
   "execution_count": 14,
   "id": "58b27156",
   "metadata": {},
   "outputs": [],
   "source": [
    "# Check to make sure result are same between methods\n",
    "(pairwise_df['closest_starbucks (mi)'] != balltree_df['closest_starbucks (mi)']).any()"
   ]
  },
  {
   "cell_type": "code",
   "execution_count": null,
   "id": "d779c8ba",
   "metadata": {},
   "outputs": [],
   "source": []
  }
 ],
 "metadata": {
  "kernelspec": {
   "display_name": "Python 3 (ipykernel)",
   "language": "python",
   "name": "python3"
  },
  "language_info": {
   "codemirror_mode": {
    "name": "ipython",
    "version": 3
   },
   "file_extension": ".py",
   "mimetype": "text/x-python",
   "name": "python",
   "nbconvert_exporter": "python",
   "pygments_lexer": "ipython3",
   "version": "3.12.1"
  },
  "vscode": {
   "interpreter": {
    "hash": "93028d5495cf3fdad3791cfb45569ed1ffef5b94a8e8037ba1bdda77d837769f"
   }
  }
 },
 "nbformat": 4,
 "nbformat_minor": 5
}
